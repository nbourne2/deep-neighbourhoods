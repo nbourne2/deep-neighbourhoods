{
 "cells": [
  {
   "cell_type": "markdown",
   "metadata": {},
   "source": [
    "# Compare LST before/after ECO installations\n",
    "\n",
    "Use EON dataset to locate particular ECO installations in a given year. Display LST maps of appropriate areas and do some analysis to determine whether any measurable effect of ECO on LST in comparison with other areas.\n",
    "\n",
    "**Inputs**\n",
    "* EON ECO installations data table\n",
    "* LST maps for appropriate years from LSOA_LST_Builder\n",
    "\n",
    "**Considerations**\n",
    "* Define small AOI(s) located where lots of installations were done\n",
    "* Be choosy about which installations to look at - initially just loft insulation\n",
    "* When looking at control sample of LSOA's without ECO installations, try to choose similar geographical areas (look at land use map for example - choose areas with similar \n"
   ]
  }
 ],
 "metadata": {
  "kernelspec": {
   "display_name": "Python 3",
   "language": "python",
   "name": "python3"
  },
  "language_info": {
   "codemirror_mode": {
    "name": "ipython",
    "version": 3
   },
   "file_extension": ".py",
   "mimetype": "text/x-python",
   "name": "python",
   "nbconvert_exporter": "python",
   "pygments_lexer": "ipython3",
   "version": "3.6.6"
  }
 },
 "nbformat": 4,
 "nbformat_minor": 2
}
