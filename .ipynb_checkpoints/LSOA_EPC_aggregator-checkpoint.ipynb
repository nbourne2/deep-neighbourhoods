{
 "cells": [
  {
   "cell_type": "markdown",
   "metadata": {},
   "source": [
    "# LSOA EPC Aggregator\n",
    "\n",
    "A pipeline to select EPCs within a given AOI and date range and create a geodataframe containing their aggregate information.\n",
    "\n",
    "This is based on EPC_maps2.ipynb\n",
    "\n",
    "**Inputs**\n",
    "* Region\n",
    "* Date range of interest (size of buffer around the SoI of the sat imaging being compared to)\n",
    "* LSOA geodataframe to attach EPC info to\n",
    "* Postcode geodata to join to EPCs \n",
    "\n",
    "**Process**\n",
    "* Go to each LSOA, find appropriate EPC file by LAD\n",
    "* Join postcode geodata to EPC on postcode\n",
    "* Aggregate EPC data\n",
    "* Output\n",
    "\n",
    "**Outputs**\n",
    "* Geodataframe containing aggregate information on EPCs in each LSOA within the time period:\n",
    "* Average Current Energy Efficiency Rating\n",
    "* Average Roof Energy Eff\n",
    "* Average Walls Energy Eff\n",
    "* Average Windows Energy Eff\n",
    "* Average Date\n",
    "* ? Most common Transaction Type\n",
    "* Number of EPCs meeting the criteria\n"
   ]
  },
  {
   "cell_type": "code",
   "execution_count": 1,
   "metadata": {},
   "outputs": [],
   "source": [
    "import os\n",
    "import glob\n",
    "import pprint as pp\n",
    "\n",
    "import pandas as pd\n",
    "import geopandas as gpd\n",
    "import numpy as np\n",
    "from numpy import ma \n",
    "import matplotlib as mpl\n",
    "import matplotlib.pyplot as plt\n",
    "%matplotlib inline\n",
    "\n",
    "\n"
   ]
  },
  {
   "cell_type": "code",
   "execution_count": 2,
   "metadata": {},
   "outputs": [],
   "source": [
    "\"\"\"Define dates of interest\"\"\"\n",
    "\n",
    "epc_min_date='2013-01-01'\n",
    "epc_max_date='2014-12-31'\n",
    "\n",
    "date_label = '2013-2014'\n",
    "place_label = 'derbyshire'\n",
    "\n",
    "use_medsub_lst = True \n",
    "product_label = ('rLST' if use_medsub_lst else 'LST')\n"
   ]
  },
  {
   "cell_type": "code",
   "execution_count": 12,
   "metadata": {},
   "outputs": [],
   "source": [
    "# Where to find the files\n",
    "rootdir = '/Users/nathan.bourne/data/thermcert/'\n",
    "\n",
    "output_plot_dir = rootdir+'output_LSOA_LST/{}_{}/'.format(place_label,date_label)\n",
    "raw_data_dir = rootdir+'uk_data/astrosat_data/uk-stats/data/raw/'\n",
    "\n",
    "pc_cent_file = rootdir+'uk_data/postcode_centroids/ONS_Postcode_Directory_Latest_Centroids.csv'\n",
    "lad_file = raw_data_dir+'geometries/lad/Local_Authority_Districts_December_2016_Generalised_Clipped_Boundaries_in_the_UK.shp'\n",
    "derb_lsoa_geodata = output_plot_dir+'lsoa_{}_{}_LC.geojson'.format(place_label,product_label)\n"
   ]
  },
  {
   "cell_type": "code",
   "execution_count": 4,
   "metadata": {},
   "outputs": [],
   "source": [
    "# all_lsoa_geodata = '../uk_data/astrosat_data/lsoa_england.geojson'\n",
    "\n",
    "# lsoa_data = gpd.read_file(all_lsoa_geodata) \n",
    "lsoa_derb = gpd.read_file(derb_lsoa_geodata) \n",
    "# print(lsoa_data.keys())\n",
    "# print(lsoa_derb.keys())"
   ]
  },
  {
   "cell_type": "code",
   "execution_count": 5,
   "metadata": {},
   "outputs": [
    {
     "name": "stderr",
     "output_type": "stream",
     "text": [
      "/Users/nathan.bourne/anaconda3/lib/python3.6/site-packages/IPython/core/interactiveshell.py:3020: DtypeWarning: Columns (32,42,47,52) have mixed types. Specify dtype option on import or set low_memory=False.\n",
      "  interactivity=interactivity, compiler=compiler, result=result)\n"
     ]
    },
    {
     "name": "stdout",
     "output_type": "stream",
     "text": [
      "Index(['X', 'Y', 'objectid', 'pcd', 'pcd2', 'pcds', 'dointr', 'doterm',\n",
      "       'oscty', 'oslaua', 'osward', 'usertype', 'oseast1m', 'osnrth1m',\n",
      "       'osgrdind', 'oshlthau', 'nhser', 'ctry', 'rgn', 'ced', 'pcon', 'eer',\n",
      "       'teclec', 'ttwa', 'pct', 'nuts', 'statsward', 'oa01', 'casward', 'park',\n",
      "       'lsoa01', 'msoa01', 'ur01ind', 'oac01', 'oa11', 'lsoa11', 'msoa11',\n",
      "       'parish', 'wz11', 'ccg', 'bua11', 'buasd11', 'ru11ind', 'oac11', 'lat',\n",
      "       'long', 'lep1', 'lep2', 'pfa', 'imd', 'calncv', 'stp', 'streg'],\n",
      "      dtype='object')\n",
      "2616838\n"
     ]
    }
   ],
   "source": [
    "\"\"\"Need a postcode lookup: this file contains LSOA key in lsoa11\"\"\"\n",
    "\n",
    "pc_cent = pd.read_csv(pc_cent_file)\n",
    "print(pc_cent.keys())\n",
    "print(len(pc_cent))"
   ]
  },
  {
   "cell_type": "code",
   "execution_count": 6,
   "metadata": {},
   "outputs": [],
   "source": [
    "\"\"\"Convert the Postcode Dataframe into a Geodataframe by adding geometry\"\"\"\n",
    "from shapely.geometry import Point\n",
    "\n",
    "pcx = pd.to_numeric(pc_cent['X'],errors='coerce')\n",
    "pcy = pd.to_numeric(pc_cent['Y'],errors='coerce')\n",
    "\n",
    "pc_geom = list(zip(pcx,pcy))\n",
    "pc_geom = [Point(xy) for xy in pc_geom]\n",
    "\n",
    "pc_cent_gdf = gpd.GeoDataFrame(pc_cent,geometry=pc_geom)"
   ]
  },
  {
   "cell_type": "code",
   "execution_count": 49,
   "metadata": {},
   "outputs": [
    {
     "name": "stdout",
     "output_type": "stream",
     "text": [
      "This took 341.6250040000002 s\n"
     ]
    }
   ],
   "source": [
    "\"\"\"List postcodes associated with each LSOA OF INTEREST\"\"\"\n",
    "lsoa_derb_postcode_indices = []\n",
    "\n",
    "import time\n",
    "tic=time.process_time()\n",
    "\n",
    "for thislsoa in lsoa_derb['LSOA code']:\n",
    "    inds, = np.where(pc_cent_gdf['lsoa11'] == thislsoa)\n",
    "    lsoa_derb_postcode_indices = lsoa_derb_postcode_indices + [inds]\n",
    "\n",
    "toc = time.process_time()\n",
    "print('This took {} s'.format((toc-tic)/1.0))\n",
    "\n",
    "# The output is a list of np.ndarrays"
   ]
  },
  {
   "cell_type": "code",
   "execution_count": 55,
   "metadata": {},
   "outputs": [
    {
     "name": "stdout",
     "output_type": "stream",
     "text": [
      "(1886,)\n",
      "(43,)\n",
      "<class 'list'>\n",
      "<class 'numpy.ndarray'>\n"
     ]
    }
   ],
   "source": [
    "print(np.shape(lsoa_derb_postcode_indices))\n",
    "print(np.shape(lsoa_derb_postcode_indices[0]))\n",
    "print(type(lsoa_derb_postcode_indices))\n",
    "print(type(lsoa_derb_postcode_indices[0]))\n"
   ]
  },
  {
   "cell_type": "code",
   "execution_count": 14,
   "metadata": {},
   "outputs": [],
   "source": [
    "\"\"\"Build EPC filename\"\"\"\n",
    "def epc_filename(LAD_code,LAD_name):\n",
    "    filename = raw_data_dir \\\n",
    "        +'attributes/epc_lad_england_wales/' \\\n",
    "        +'-'.join(['domestic',LAD_code]\n",
    "                  +LAD_name.replace(',','').replace(\"'\",'-').replace('.','').split()\n",
    "                 ) \\\n",
    "        +'/certificates.csv'\n",
    "    return filename"
   ]
  },
  {
   "cell_type": "code",
   "execution_count": 15,
   "metadata": {},
   "outputs": [
    {
     "name": "stdout",
     "output_type": "stream",
     "text": [
      "391\n"
     ]
    }
   ],
   "source": [
    "\"\"\"Construct EPC filenames to look for, using LAD codes from LADS file\"\"\"\n",
    "lads = gpd.read_file(lad_file)\n",
    "\n",
    "epc_files = []\n",
    "for code,name in zip(lads['lad16cd'].values,\n",
    "                     lads['lad16nm'].values):\n",
    "    epc_files += [epc_filename(code,name)]\n",
    "\n",
    "print(len(epc_files))"
   ]
  },
  {
   "cell_type": "code",
   "execution_count": 45,
   "metadata": {},
   "outputs": [
    {
     "data": {
      "text/plain": [
       "(array(['E08000004', 'E08000007', 'E08000008', 'E08000016', 'E08000017',\n",
       "        'E08000018', 'E08000019', 'E08000034', 'E06000015', 'E06000018',\n",
       "        'E06000049', 'E07000032', 'E07000033', 'E07000034', 'E07000035',\n",
       "        'E07000036', 'E07000037', 'E07000038', 'E07000039', 'E07000130',\n",
       "        'E07000132', 'E07000134', 'E07000170', 'E07000171', 'E07000172',\n",
       "        'E07000173', 'E07000174', 'E07000175', 'E07000176', 'E07000192',\n",
       "        'E07000193', 'E07000194', 'E07000196', 'E07000197', 'E07000198'],\n",
       "       dtype=object),\n",
       " array(['Oldham', 'Stockport', 'Tameside', 'Barnsley', 'Doncaster',\n",
       "        'Rotherham', 'Sheffield', 'Kirklees', 'Derby', 'Nottingham',\n",
       "        'Cheshire East', 'Amber Valley', 'Bolsover', 'Chesterfield',\n",
       "        'Derbyshire Dales', 'Erewash', 'High Peak',\n",
       "        'North East Derbyshire', 'South Derbyshire', 'Charnwood',\n",
       "        'Hinckley and Bosworth', 'North West Leicestershire', 'Ashfield',\n",
       "        'Bassetlaw', 'Broxtowe', 'Gedling', 'Mansfield',\n",
       "        'Newark and Sherwood', 'Rushcliffe', 'Cannock Chase',\n",
       "        'East Staffordshire', 'Lichfield', 'South Staffordshire',\n",
       "        'Stafford', 'Staffordshire Moorlands'], dtype=object))"
      ]
     },
     "execution_count": 45,
     "metadata": {},
     "output_type": "execute_result"
    }
   ],
   "source": [
    "lsoa_derb['LAD code'].unique(),lsoa_derb['LAD name'].unique()\n"
   ]
  },
  {
   "cell_type": "code",
   "execution_count": 16,
   "metadata": {},
   "outputs": [
    {
     "name": "stderr",
     "output_type": "stream",
     "text": [
      "/Users/nathan.bourne/anaconda3/lib/python3.6/site-packages/IPython/core/interactiveshell.py:3020: DtypeWarning: Columns (15) have mixed types. Specify dtype option on import or set low_memory=False.\n",
      "  interactivity=interactivity, compiler=compiler, result=result)\n",
      "/Users/nathan.bourne/anaconda3/lib/python3.6/site-packages/IPython/core/interactiveshell.py:3020: DtypeWarning: Columns (3) have mixed types. Specify dtype option on import or set low_memory=False.\n",
      "  interactivity=interactivity, compiler=compiler, result=result)\n",
      "/Users/nathan.bourne/anaconda3/lib/python3.6/site-packages/IPython/core/interactiveshell.py:3020: DtypeWarning: Columns (59,60) have mixed types. Specify dtype option on import or set low_memory=False.\n",
      "  interactivity=interactivity, compiler=compiler, result=result)\n",
      "/Users/nathan.bourne/anaconda3/lib/python3.6/site-packages/IPython/core/interactiveshell.py:3020: DtypeWarning: Columns (3,51) have mixed types. Specify dtype option on import or set low_memory=False.\n",
      "  interactivity=interactivity, compiler=compiler, result=result)\n"
     ]
    },
    {
     "name": "stdout",
     "output_type": "stream",
     "text": [
      "348 files opened\n",
      "43 files not found:\n",
      "/Users/nathan.bourne/data/thermcert/uk_data/astrosat_data/uk-stats/data/raw/attributes/epc_lad_england_wales/domestic-N09000006-Fermanagh-and-Omagh/certificates.csv\n",
      "/Users/nathan.bourne/data/thermcert/uk_data/astrosat_data/uk-stats/data/raw/attributes/epc_lad_england_wales/domestic-N09000001-Antrim-and-Newtownabbey/certificates.csv\n",
      "/Users/nathan.bourne/data/thermcert/uk_data/astrosat_data/uk-stats/data/raw/attributes/epc_lad_england_wales/domestic-N09000002-Armagh-City-Banbridge-and-Craigavon/certificates.csv\n",
      "/Users/nathan.bourne/data/thermcert/uk_data/astrosat_data/uk-stats/data/raw/attributes/epc_lad_england_wales/domestic-N09000003-Belfast/certificates.csv\n",
      "/Users/nathan.bourne/data/thermcert/uk_data/astrosat_data/uk-stats/data/raw/attributes/epc_lad_england_wales/domestic-N09000004-Causeway-Coast-and-Glens/certificates.csv\n",
      "/Users/nathan.bourne/data/thermcert/uk_data/astrosat_data/uk-stats/data/raw/attributes/epc_lad_england_wales/domestic-N09000005-Derry-City-and-Strabane/certificates.csv\n",
      "/Users/nathan.bourne/data/thermcert/uk_data/astrosat_data/uk-stats/data/raw/attributes/epc_lad_england_wales/domestic-N09000007-Lisburn-and-Castlereagh/certificates.csv\n",
      "/Users/nathan.bourne/data/thermcert/uk_data/astrosat_data/uk-stats/data/raw/attributes/epc_lad_england_wales/domestic-N09000008-Mid-and-East-Antrim/certificates.csv\n",
      "/Users/nathan.bourne/data/thermcert/uk_data/astrosat_data/uk-stats/data/raw/attributes/epc_lad_england_wales/domestic-N09000009-Mid-Ulster/certificates.csv\n",
      "/Users/nathan.bourne/data/thermcert/uk_data/astrosat_data/uk-stats/data/raw/attributes/epc_lad_england_wales/domestic-N09000010-Newry-Mourne-and-Down/certificates.csv\n",
      "/Users/nathan.bourne/data/thermcert/uk_data/astrosat_data/uk-stats/data/raw/attributes/epc_lad_england_wales/domestic-N09000011-Ards-and-North-Down/certificates.csv\n",
      "/Users/nathan.bourne/data/thermcert/uk_data/astrosat_data/uk-stats/data/raw/attributes/epc_lad_england_wales/domestic-S12000005-Clackmannanshire/certificates.csv\n",
      "/Users/nathan.bourne/data/thermcert/uk_data/astrosat_data/uk-stats/data/raw/attributes/epc_lad_england_wales/domestic-S12000006-Dumfries-and-Galloway/certificates.csv\n",
      "/Users/nathan.bourne/data/thermcert/uk_data/astrosat_data/uk-stats/data/raw/attributes/epc_lad_england_wales/domestic-S12000008-East-Ayrshire/certificates.csv\n",
      "/Users/nathan.bourne/data/thermcert/uk_data/astrosat_data/uk-stats/data/raw/attributes/epc_lad_england_wales/domestic-S12000010-East-Lothian/certificates.csv\n",
      "/Users/nathan.bourne/data/thermcert/uk_data/astrosat_data/uk-stats/data/raw/attributes/epc_lad_england_wales/domestic-S12000011-East-Renfrewshire/certificates.csv\n",
      "/Users/nathan.bourne/data/thermcert/uk_data/astrosat_data/uk-stats/data/raw/attributes/epc_lad_england_wales/domestic-S12000013-Na-h-Eileanan-Siar/certificates.csv\n",
      "/Users/nathan.bourne/data/thermcert/uk_data/astrosat_data/uk-stats/data/raw/attributes/epc_lad_england_wales/domestic-S12000014-Falkirk/certificates.csv\n",
      "/Users/nathan.bourne/data/thermcert/uk_data/astrosat_data/uk-stats/data/raw/attributes/epc_lad_england_wales/domestic-S12000015-Fife/certificates.csv\n",
      "/Users/nathan.bourne/data/thermcert/uk_data/astrosat_data/uk-stats/data/raw/attributes/epc_lad_england_wales/domestic-S12000017-Highland/certificates.csv\n",
      "/Users/nathan.bourne/data/thermcert/uk_data/astrosat_data/uk-stats/data/raw/attributes/epc_lad_england_wales/domestic-S12000018-Inverclyde/certificates.csv\n",
      "/Users/nathan.bourne/data/thermcert/uk_data/astrosat_data/uk-stats/data/raw/attributes/epc_lad_england_wales/domestic-S12000019-Midlothian/certificates.csv\n",
      "/Users/nathan.bourne/data/thermcert/uk_data/astrosat_data/uk-stats/data/raw/attributes/epc_lad_england_wales/domestic-S12000020-Moray/certificates.csv\n",
      "/Users/nathan.bourne/data/thermcert/uk_data/astrosat_data/uk-stats/data/raw/attributes/epc_lad_england_wales/domestic-S12000021-North-Ayrshire/certificates.csv\n",
      "/Users/nathan.bourne/data/thermcert/uk_data/astrosat_data/uk-stats/data/raw/attributes/epc_lad_england_wales/domestic-S12000023-Orkney-Islands/certificates.csv\n",
      "/Users/nathan.bourne/data/thermcert/uk_data/astrosat_data/uk-stats/data/raw/attributes/epc_lad_england_wales/domestic-S12000024-Perth-and-Kinross/certificates.csv\n",
      "/Users/nathan.bourne/data/thermcert/uk_data/astrosat_data/uk-stats/data/raw/attributes/epc_lad_england_wales/domestic-S12000026-Scottish-Borders/certificates.csv\n",
      "/Users/nathan.bourne/data/thermcert/uk_data/astrosat_data/uk-stats/data/raw/attributes/epc_lad_england_wales/domestic-S12000027-Shetland-Islands/certificates.csv\n",
      "/Users/nathan.bourne/data/thermcert/uk_data/astrosat_data/uk-stats/data/raw/attributes/epc_lad_england_wales/domestic-S12000028-South-Ayrshire/certificates.csv\n",
      "/Users/nathan.bourne/data/thermcert/uk_data/astrosat_data/uk-stats/data/raw/attributes/epc_lad_england_wales/domestic-S12000029-South-Lanarkshire/certificates.csv\n",
      "/Users/nathan.bourne/data/thermcert/uk_data/astrosat_data/uk-stats/data/raw/attributes/epc_lad_england_wales/domestic-S12000030-Stirling/certificates.csv\n",
      "/Users/nathan.bourne/data/thermcert/uk_data/astrosat_data/uk-stats/data/raw/attributes/epc_lad_england_wales/domestic-S12000033-Aberdeen-City/certificates.csv\n",
      "/Users/nathan.bourne/data/thermcert/uk_data/astrosat_data/uk-stats/data/raw/attributes/epc_lad_england_wales/domestic-S12000034-Aberdeenshire/certificates.csv\n",
      "/Users/nathan.bourne/data/thermcert/uk_data/astrosat_data/uk-stats/data/raw/attributes/epc_lad_england_wales/domestic-S12000035-Argyll-and-Bute/certificates.csv\n",
      "/Users/nathan.bourne/data/thermcert/uk_data/astrosat_data/uk-stats/data/raw/attributes/epc_lad_england_wales/domestic-S12000036-City-of-Edinburgh/certificates.csv\n",
      "/Users/nathan.bourne/data/thermcert/uk_data/astrosat_data/uk-stats/data/raw/attributes/epc_lad_england_wales/domestic-S12000039-West-Dunbartonshire/certificates.csv\n",
      "/Users/nathan.bourne/data/thermcert/uk_data/astrosat_data/uk-stats/data/raw/attributes/epc_lad_england_wales/domestic-S12000038-Renfrewshire/certificates.csv\n",
      "/Users/nathan.bourne/data/thermcert/uk_data/astrosat_data/uk-stats/data/raw/attributes/epc_lad_england_wales/domestic-S12000045-East-Dunbartonshire/certificates.csv\n",
      "/Users/nathan.bourne/data/thermcert/uk_data/astrosat_data/uk-stats/data/raw/attributes/epc_lad_england_wales/domestic-S12000040-West-Lothian/certificates.csv\n",
      "/Users/nathan.bourne/data/thermcert/uk_data/astrosat_data/uk-stats/data/raw/attributes/epc_lad_england_wales/domestic-S12000041-Angus/certificates.csv\n",
      "/Users/nathan.bourne/data/thermcert/uk_data/astrosat_data/uk-stats/data/raw/attributes/epc_lad_england_wales/domestic-S12000042-Dundee-City/certificates.csv\n",
      "/Users/nathan.bourne/data/thermcert/uk_data/astrosat_data/uk-stats/data/raw/attributes/epc_lad_england_wales/domestic-S12000044-North-Lanarkshire/certificates.csv\n",
      "/Users/nathan.bourne/data/thermcert/uk_data/astrosat_data/uk-stats/data/raw/attributes/epc_lad_england_wales/domestic-S12000046-Glasgow-City/certificates.csv\n"
     ]
    }
   ],
   "source": [
    "\"\"\"Check existence of all EPC files and read the data\"\"\"\n",
    "epc_list = []\n",
    "notfound = []\n",
    "epc_code_list = []\n",
    "#save memory\n",
    "keepcols_epc = ['POSTCODE',\n",
    "                'INSPECTION_DATE',\n",
    "                'CURRENT_ENERGY_EFFICIENCY',\n",
    "                'ROOF_ENERGY_EFF',\n",
    "                'WALLS_ENERGY_EFF',\n",
    "                'WINDOWS_ENERGY_EFF']\n",
    "        \n",
    "for epc_ind in range(len(epc_files)):\n",
    "    filename = epc_files[epc_ind]\n",
    "    if len(glob.glob(filename)) == 0:\n",
    "        notfound += [filename]\n",
    "    else:\n",
    "        epc_data = pd.read_csv(filename)\n",
    "        epc_data = epc_data[keepcols_epc]\n",
    "        epc_list += [epc_data]\n",
    "        epc_code_list += [lads['lad16cd'].iloc[epc_ind]]\n",
    "print('{} files opened'.format(len(epc_list)))\n",
    "print('{} files not found:'.format(len(notfound)))\n",
    "for ii in range(len(notfound)):\n",
    "    print(notfound[ii])"
   ]
  },
  {
   "cell_type": "code",
   "execution_count": 28,
   "metadata": {},
   "outputs": [],
   "source": [
    "\"\"\"Convert EPC energy efficiency ratings to floats\"\"\"\n",
    "\n",
    "def ee_str_to_float(ee_as_str_series):\n",
    "    \"\"\"\n",
    "    input: epc_as_str_series = pd.Series of strings ('A'-'G')\n",
    "    return: pd.Series of floats (1-7)\n",
    "    \"\"\"\n",
    "    str_series = ee_as_str_series.str.upper().copy()\n",
    "    str_series = str_series.str.replace('VERY GOOD','5.0')\n",
    "    str_series = str_series.str.replace('GOOD','4.0')\n",
    "    str_series = str_series.str.replace('AVERAGE','3.0')\n",
    "    str_series = str_series.str.replace('VERY POOR','1.0')\n",
    "    str_series = str_series.str.replace('POOR','2.0')\n",
    "    str_series = str_series.str.replace('NAN','')\n",
    "    #return str_series.astype(float)\n",
    "    return pd.to_numeric(str_series,errors='coerce',downcast='float')\n",
    "\n",
    "# for epc_data in epc_list:\n",
    "#     cee_series = epc_to_float(epc_data['CURRENT_ENERGY_RATING'])\n",
    "#     pee_series = epc_to_float(epc_data['POTENTIAL_ENERGY_RATING'])\n",
    "\n",
    "#     epc_data = epc_data.assign(flt_CEE=cee_series, flt_PEE=pee_series)"
   ]
  },
  {
   "cell_type": "code",
   "execution_count": null,
   "metadata": {},
   "outputs": [],
   "source": []
  },
  {
   "cell_type": "code",
   "execution_count": 58,
   "metadata": {},
   "outputs": [],
   "source": [
    "\"\"\"Now we have for every LSOA, a list of the appropriate indices in the postcodes geodatabase\n",
    "\n",
    "We can now loop over the LSOAs, find the LAD from the LSOA file, open the relevant EPC csv file\n",
    "find the postcodes from these indices, use these to select the EPCs, and derive relevant \n",
    "aggregated data on the EPCs all at once for that LSOA.  Then we only need to loop 1886 times,\n",
    "and we only open one EPC file in each loop, so we are dealing with a limited volume of data.\n",
    "\n",
    "\n",
    "\"\"\"\n",
    "\n",
    "# Assign new columns\n",
    "filelength = len(lsoa_derb)\n",
    "lsoa_derb_epc = lsoa_derb.assign(N_EPC = np.zeros(filelength),\n",
    "                                 AveDate_EPC = np.zeros(filelength),\n",
    "                                 AveCEE_EPC = np.zeros(filelength),\n",
    "                                 AveRoofEE_EPC = np.zeros(filelength),\n",
    "                                 AveWallsEE_EPC = np.zeros(filelength),\n",
    "                                 AveWindowsEE_EPC = np.zeros(filelength),\n",
    "                                 FracPoorRoof_EPC = np.zeros(filelength),\n",
    "                                 FracPoorAll_EPC = np.zeros(filelength),\n",
    "                                 FracEFG_EPC = np.zeros(filelength)\n",
    "                                )                                 \n",
    "                                 \n",
    "# Assign column numbers\n",
    "lastcol = len(lsoa_derb_epc.keys())-1\n",
    "FracEFG_EPC_col = lastcol\n",
    "FracPoorAll_EPC_col = lastcol-1\n",
    "FracPoorRoof_EPC_col = lastcol-2\n",
    "AveWindowsEE_EPC_col = lastcol-3\n",
    "AveWallsEE_EPC_col = lastcol-4\n",
    "AveRoofEE_EPC_col = lastcol-5\n",
    "AveCEE_EPC_col = lastcol-6\n",
    "AveDate_EPC_col = lastcol-7\n",
    "N_EPC_col = lastcol-8\n",
    "\n",
    "def date_to_epoch(date_series, unit='1d', epoch='1970-01-01'):\n",
    "    return (date_series - pd.Timestamp(epoch)) // pd.Timedelta(unit)\n",
    "\n",
    "def epoch_to_date(numeric_series, unit='D'): #, origin='2000-01-01'):\n",
    "    return pd.to_datetime(numeric_series.values, errors='coerce', unit=unit)\n",
    "#                           origin=pd.to_datetime(origin))\n",
    "\n",
    "# Assign postcode in standard format\n",
    "pc_cent_gdf = pc_cent_gdf.assign(postcode = pc_cent_gdf['pcd'].str.upper().str.replace(' ',''))\n"
   ]
  },
  {
   "cell_type": "code",
   "execution_count": 64,
   "metadata": {},
   "outputs": [
    {
     "name": "stdout",
     "output_type": "stream",
     "text": [
      "E08000004 ['E06000001', 'E06000002', 'E06000003', 'E06000004', 'E06000010', 'E06000011', 'E06000005', 'E06000006', 'E08000023', 'E06000007', 'E06000008', 'E06000009', 'E06000012', 'E06000014', 'E06000015', 'E06000013', 'E06000016', 'E06000017', 'E06000018', 'E06000019', 'E06000020', 'E06000021', 'E06000022', 'E06000028', 'E06000023', 'E06000029', 'E06000024', 'E06000032', 'E06000025', 'E06000033', 'E06000026', 'E06000027', 'E06000030', 'E06000031', 'E06000034', 'E06000035', 'E06000036', 'E06000039', 'E09000005', 'E06000037', 'E06000038', 'E06000047', 'E06000049', 'E06000050', 'E06000051', 'E06000052', 'E06000053', 'E06000054', 'E06000040', 'E06000041', 'E08000026', 'E06000042', 'E06000043', 'E06000044', 'E06000045', 'E06000055', 'E09000028', 'E06000046', 'E06000056', 'E06000057', 'E07000004', 'E07000005', 'E07000006', 'E09000029', 'E07000007', 'E07000008', 'E07000048', 'E07000009', 'E07000061', 'E07000062', 'E07000010', 'E07000033', 'E07000011', 'E09000030', 'E07000012', 'E07000026', 'E07000027', 'E07000028', 'E07000029', 'E07000034', 'E07000035', 'E07000030', 'E07000031', 'E07000032', 'E07000036', 'E07000037', 'E07000041', 'E07000042', 'E07000043', 'E07000044', 'E07000038', 'E09000031', 'E07000039', 'E09000032', 'E07000040', 'E07000045', 'E07000046', 'E07000047', 'E07000049', 'E07000066', 'E07000050', 'E07000051', 'E07000052', 'E07000053', 'E07000063', 'E09000033', 'E07000064', 'E07000065', 'E07000067', 'E07000068', 'E07000069', 'E07000087', 'E07000070', 'E07000088', 'E07000071', 'E07000072', 'E07000073', 'E07000074', 'E09000006', 'E07000075', 'E07000076', 'E07000077', 'E07000078', 'E07000079', 'E07000080', 'E07000081', 'E07000082', 'E09000007', 'E07000083', 'E07000084', 'E07000089', 'E07000085', 'E07000086', 'E07000090', 'E07000091', 'E07000092', 'E07000103', 'E07000093', 'E07000117', 'E07000094', 'E07000095', 'E07000096', 'E07000098', 'E07000120', 'E07000121', 'E07000099', 'E07000102', 'E07000105', 'E07000122', 'E07000106', 'E07000107', 'E07000108', 'E07000109', 'E07000110', 'E07000123', 'E07000111', 'E07000241', 'E07000112', 'E07000113', 'E07000114', 'E07000115', 'E09000008', 'E07000116', 'E07000118', 'E07000119', 'E07000124', 'E07000125', 'E07000126', 'E07000129', 'E07000127', 'E09000009', 'E07000128', 'E07000130', 'E07000132', 'E07000131', 'E07000133', 'E07000150', 'E07000134', 'E07000135', 'E09000010', 'E07000136', 'E07000137', 'E07000138', 'E07000156', 'E07000139', 'E07000170', 'E07000140', 'E07000173', 'E07000141', 'E07000174', 'E07000142', 'E07000178', 'E07000143', 'E07000208', 'E07000144', 'E07000145', 'E07000146', 'E07000147', 'E07000148', 'E07000149', 'E07000212', 'E07000151', 'E07000152', 'E07000213', 'E07000153', 'E07000154', 'E07000155', 'E07000214', 'E07000163', 'E07000164', 'E09000011', 'E07000165', 'E07000166', 'E09000012', 'E09000013', 'E07000167', 'E09000014', 'E07000168', 'E07000169', 'E07000171', 'E07000172', 'E07000175', 'E09000015', 'E07000176', 'E07000215', 'E07000177', 'E07000179', 'E07000180', 'E07000181', 'E09000016', 'E07000187', 'E07000188', 'E07000189', 'E07000190', 'E09000017', 'E07000191', 'E07000192', 'E07000193', 'E07000194', 'E08000003', 'E07000195', 'E08000004', 'E07000196', 'E07000197', 'E07000198', 'E07000199', 'E07000200', 'E07000201', 'E07000202', 'E09000018', 'E07000203', 'E09000019', 'E07000204', 'E07000205', 'E07000206', 'E07000207', 'E07000209', 'E08000005', 'E07000210', 'E07000211', 'E09000020', 'E07000216', 'E07000217', 'E07000218', 'E07000219', 'E08000006', 'E07000220', 'E07000221', 'E07000239', 'E07000222', 'E07000223', 'E09000021', 'E07000224', 'E07000225', 'E07000226', 'E09000022', 'E07000227', 'E07000228', 'E07000229', 'E07000240', 'E07000234', 'E07000235', 'E07000236', 'E07000237', 'E07000238', 'E07000242', 'E07000243', 'E08000013', 'E08000001', 'E08000002', 'E09000023', 'E08000007', 'E08000008', 'E08000009', 'E08000010', 'E08000011', 'E08000012', 'E08000014', 'E08000015', 'E09000024', 'E08000016', 'E08000022', 'E09000025', 'E08000017', 'E08000018', 'E08000019', 'E08000021', 'E09000026', 'E08000024', 'E08000025', 'E08000027', 'E08000028', 'E09000027', 'E08000029', 'E08000030', 'E08000031', 'E08000032', 'E08000033', 'E08000034', 'E08000036', 'E08000035', 'E09000004', 'E08000037', 'E09000001', 'E09000002', 'E09000003', 'W06000001', 'W06000002', 'W06000003', 'W06000013', 'W06000004', 'W06000005', 'W06000006', 'W06000008', 'W06000009', 'W06000010', 'W06000011', 'W06000012', 'W06000014', 'W06000015', 'W06000016', 'W06000020', 'W06000018', 'W06000019', 'W06000024', 'W06000021', 'W06000022', 'W06000023']\n",
      "241\n",
      "(array([241]),)\n",
      "[241]\n",
      "241\n"
     ]
    },
    {
     "ename": "IndexError",
     "evalue": "too many indices for array",
     "output_type": "error",
     "traceback": [
      "\u001b[0;31m--------------------------------------------------------------------------\u001b[0m",
      "\u001b[0;31mIndexError\u001b[0m                               Traceback (most recent call last)",
      "\u001b[0;32m<ipython-input-64-797313fb8082>\u001b[0m in \u001b[0;36m<module>\u001b[0;34m\u001b[0m\n\u001b[1;32m     20\u001b[0m     \u001b[0mprint\u001b[0m\u001b[0;34m(\u001b[0m\u001b[0mnp\u001b[0m\u001b[0;34m.\u001b[0m\u001b[0mwhere\u001b[0m\u001b[0;34m(\u001b[0m\u001b[0mnp\u001b[0m\u001b[0;34m.\u001b[0m\u001b[0marray\u001b[0m\u001b[0;34m(\u001b[0m\u001b[0mepc_code_list\u001b[0m\u001b[0;34m)\u001b[0m \u001b[0;34m==\u001b[0m \u001b[0mthislsoa_lad_code\u001b[0m\u001b[0;34m)\u001b[0m\u001b[0;34m[\u001b[0m\u001b[0;36m0\u001b[0m\u001b[0;34m]\u001b[0m\u001b[0;34m)\u001b[0m\u001b[0;34m\u001b[0m\u001b[0m\n\u001b[1;32m     21\u001b[0m     \u001b[0mprint\u001b[0m\u001b[0;34m(\u001b[0m\u001b[0mnp\u001b[0m\u001b[0;34m.\u001b[0m\u001b[0msqueeze\u001b[0m\u001b[0;34m(\u001b[0m\u001b[0mnp\u001b[0m\u001b[0;34m.\u001b[0m\u001b[0mwhere\u001b[0m\u001b[0;34m(\u001b[0m\u001b[0mnp\u001b[0m\u001b[0;34m.\u001b[0m\u001b[0marray\u001b[0m\u001b[0;34m(\u001b[0m\u001b[0mepc_code_list\u001b[0m\u001b[0;34m)\u001b[0m \u001b[0;34m==\u001b[0m \u001b[0mthislsoa_lad_code\u001b[0m\u001b[0;34m)\u001b[0m\u001b[0;34m)\u001b[0m\u001b[0;34m)\u001b[0m\u001b[0;34m\u001b[0m\u001b[0m\n\u001b[0;32m---> 22\u001b[0;31m     \u001b[0mprint\u001b[0m\u001b[0;34m(\u001b[0m\u001b[0mnp\u001b[0m\u001b[0;34m.\u001b[0m\u001b[0msqueeze\u001b[0m\u001b[0;34m(\u001b[0m\u001b[0mnp\u001b[0m\u001b[0;34m.\u001b[0m\u001b[0mwhere\u001b[0m\u001b[0;34m(\u001b[0m\u001b[0mnp\u001b[0m\u001b[0;34m.\u001b[0m\u001b[0marray\u001b[0m\u001b[0;34m(\u001b[0m\u001b[0mepc_code_list\u001b[0m\u001b[0;34m)\u001b[0m \u001b[0;34m==\u001b[0m \u001b[0mthislsoa_lad_code\u001b[0m\u001b[0;34m)\u001b[0m\u001b[0;34m)\u001b[0m\u001b[0;34m[\u001b[0m\u001b[0;36m0\u001b[0m\u001b[0;34m]\u001b[0m\u001b[0;34m)\u001b[0m\u001b[0;34m\u001b[0m\u001b[0m\n\u001b[0m\u001b[1;32m     23\u001b[0m     \u001b[0;32mbreak\u001b[0m\u001b[0;34m\u001b[0m\u001b[0m\n\u001b[1;32m     24\u001b[0m     \u001b[0mepc_data\u001b[0m \u001b[0;34m=\u001b[0m \u001b[0mepc_list\u001b[0m\u001b[0;34m[\u001b[0m\u001b[0mthislsoa_epc_ind\u001b[0m\u001b[0;34m]\u001b[0m\u001b[0;34m\u001b[0m\u001b[0m\n",
      "\u001b[0;31mIndexError\u001b[0m: too many indices for array"
     ]
    }
   ],
   "source": [
    "# Always run the previous cell first\n",
    "\n",
    "import time\n",
    "tic=time.process_time()\n",
    "\n",
    "for lsoa_ind in range(filelength):\n",
    "    thislsoa = lsoa_derb.iloc[lsoa_ind]\n",
    "    #print(thislsoa)\n",
    "    \n",
    "    thislsoa_postcode_indices = lsoa_derb_postcode_indices[lsoa_ind]\n",
    "    #print(thislsoa_postcode_indices)\n",
    "    thislsoa_postcodes = pc_cent_gdf['postcode'].iloc[thislsoa_postcode_indices]\n",
    "    \n",
    "    # Find relevant epc file\n",
    "    thislsoa_lad_code = thislsoa['LAD code']\n",
    "    print(thislsoa_lad_code,epc_code_list)\n",
    "    thislsoa_epc_ind, = np.where(np.array(epc_code_list) == thislsoa_lad_code)[0]\n",
    "#     print(thislsoa_epc_ind)\n",
    "#     print(np.where(np.array(epc_code_list) == thislsoa_lad_code))\n",
    "#     print(np.where(np.array(epc_code_list) == thislsoa_lad_code)[0])\n",
    "#     print(np.squeeze(np.where(np.array(epc_code_list) == thislsoa_lad_code)))\n",
    "#     print(np.squeeze(np.where(np.array(epc_code_list) == thislsoa_lad_code))[0])\n",
    "#     break\n",
    "    epc_data = epc_list[thislsoa_epc_ind]\n",
    "    epc_postcodes = epc_data['POSTCODE'].str.upper().str.replace(' ','')\n",
    "    epc_data = epc_data.assign(POSTCODE_nosp = epc_postcodes)\n",
    "    \n",
    "    # Search postcodes \n",
    "    thislsoa_epcs = pd.merge(pd.DataFrame(thislsoa_postcodes),\n",
    "                             epc_data,\n",
    "                             left_on='postcode',\n",
    "                             right_on='POSTCODE_nosp',\n",
    "                             how='left'\n",
    "                            )\n",
    "    \n",
    "    # Filter dates\n",
    "    epc_dates = pd.to_datetime(thislsoa_epcs['INSPECTION_DATE'],errors='coerce',yearfirst=True)\n",
    "    valid_date = (epc_dates <= pd.Timestamp(epc_max_date)) & (epc_dates >= pd.Timestamp(epc_min_date))\n",
    "    \n",
    "    # Aggregate data\n",
    "    rows, = np.where(valid_date)\n",
    "    epc_count = len(rows) \n",
    "    epc_dates = date_to_epoch(epc_dates[rows])\n",
    "    epc_cee = pd.to_numeric(thislsoa_epcs.iloc[rows]['CURRENT_ENERGY_EFFICIENCY'],errors='coerce')\n",
    "    epc_rfee = ee_str_to_float(thislsoa_epcs.iloc[rows]['ROOF_ENERGY_EFF'])\n",
    "    epc_wlee = ee_str_to_float(thislsoa_epcs.iloc[rows]['WALLS_ENERGY_EFF'])\n",
    "    epc_wdee = ee_str_to_float(thislsoa_epcs.iloc[rows]['WINDOWS_ENERGY_EFF'])\n",
    "        \n",
    "    lsoa_derb_epc.iloc[lsoa_ind,N_EPC_col] += epc_count\n",
    "    lsoa_derb_epc.iloc[lsoa_ind,AveDate_EPC_col] += np.sum(epc_dates)\n",
    "    lsoa_derb_epc.iloc[lsoa_ind,AveCEE_EPC_col] += np.sum(epc_cee)\n",
    "    lsoa_derb_epc.iloc[lsoa_ind,AveRoofEE_EPC_col] += np.sum(epc_rfee)\n",
    "    lsoa_derb_epc.iloc[lsoa_ind,AveWallsEE_EPC_col] += np.sum(epc_wlee)\n",
    "    lsoa_derb_epc.iloc[lsoa_ind,AveWindowsEE_EPC_col] += np.sum(epc_wdee)\n",
    "    lsoa_derb_epc.iloc[lsoa_ind,FracEFG_EPC_col] += np.sum(epc_cee<=54)\n",
    "    lsoa_derb_epc.iloc[lsoa_ind,FracPoorRoof_EPC_col] += np.sum(epc_rfee<2.5)\n",
    "    lsoa_derb_epc.iloc[lsoa_ind,FracPoorAll_EPC_col] += np.sum((epc_rfee<2.5)\n",
    "                                                               & (epc_wlee<2.5)\n",
    "                                                               & (epc_wdee<2.5))\n",
    "#     print(np.shape(epc_dates))\n",
    "#     print(np.shape(epc_cee))\n",
    "#     print(np.sum(epc_cee))\n",
    "#     print(lsoa_derb_epc.iloc[lsoa_ind,AveCEE_EPC_col])\n",
    "#     print(lsoa_derb_epc.iloc[lsoa_ind,N_EPC_col])\n",
    "#     break\n",
    "\n",
    "toc = time.process_time()\n",
    "print('This took {} s'.format((toc-tic)/1.0))\n",
    "\n",
    "# # Having summed up all the dates and CEE's, must divide by counts to get average:\n",
    "lsoa_derb_epc['AveDate_EPC'] /= lsoa_derb_epc['N_EPC']\n",
    "lsoa_derb_epc['AveDate_EPC'] = epoch_to_date(lsoa_derb_epc['AveDate_EPC'])\n",
    "lsoa_derb_epc['AveCEE_EPC'] /= lsoa_derb_epc['N_EPC']\n",
    "lsoa_derb_epc['AveRoofEE_EPC'] /= lsoa_derb_epc['N_EPC']\n",
    "lsoa_derb_epc['AveWallsEE_EPC'] /= lsoa_derb_epc['N_EPC']\n",
    "lsoa_derb_epc['AveWindowsEE_EPC'] /= lsoa_derb_epc['N_EPC']\n",
    "# For the fractions, we have the total count of poor EPCs, so we divide by the total count of all EPCs\n",
    "lsoa_derb_epc['FracEFG_EPC'] /= lsoa_derb_epc['N_EPC']\n",
    "lsoa_derb_epc['FracPoorRoof_EPC'] /= lsoa_derb_epc['N_EPC']\n",
    "lsoa_derb_epc['FracPoorAll_EPC'] /= lsoa_derb_epc['N_EPC']\n",
    "\n",
    "# print(lsoa_derb_epc.iloc[lsoa_ind,AveCEE_EPC_col])\n",
    "# print(np.shape(lsoa_derb_epc))"
   ]
  },
  {
   "cell_type": "code",
   "execution_count": 41,
   "metadata": {},
   "outputs": [
    {
     "name": "stdout",
     "output_type": "stream",
     "text": [
      "Warning: overwriting existing file\n",
      "Output to /Users/nathan.bourne/data/thermcert/output_LSOA_LST/derbyshire_2013-2014/lsoa_derbyshire_rLST_LC_EPC_daterange.geojson\n"
     ]
    }
   ],
   "source": [
    "\"\"\"Output the results\"\"\"\n",
    "\n",
    "# This is stupid but it won't output DateTimes correctly - have to convert to float or string\n",
    "lsoa_derb_epc2 = lsoa_derb_epc.assign(AveDate_EPC = lsoa_derb_epc['AveDate_EPC'].astype(str))\n",
    "# or try\n",
    "#lsoa_derb_epc2 = lsoa_derb_epc.assign(AveDate_EPC = lsoa_derb_epc['AveDate_EPC'].dt.to_pydatetime())\n",
    "\n",
    "output_epc_file = output_plot_dir+'lsoa_derbyshire_rLST_LC_EPC_daterange.geojson'\n",
    "\n",
    "if len(glob.glob(output_epc_file))>0:\n",
    "    print('Warning: overwriting existing file')\n",
    "    os.system('rm -rf '+output_epc_file)\n",
    "\n",
    "lsoa_derb_epc2.to_file(output_epc_file,driver='GeoJSON')\n",
    "\n",
    "print('Output to '+output_epc_file)\n",
    "\n",
    "# Convert dates back again\n",
    "#lsoa_derb_epc = lsoa_derb_epc.assign(AveDate_EPC = pd.to_datetime(lsoa_derb_epc['AveDate_EPC'], errors='coerce'))"
   ]
  },
  {
   "cell_type": "code",
   "execution_count": 19,
   "metadata": {},
   "outputs": [
    {
     "data": {
      "text/plain": [
       "{'AeronavFAA': 'r',\n",
       " 'ARCGEN': 'r',\n",
       " 'BNA': 'raw',\n",
       " 'DXF': 'raw',\n",
       " 'OpenFileGDB': 'r',\n",
       " 'ESRI Shapefile': 'raw',\n",
       " 'GeoJSON': 'rw',\n",
       " 'GPKG': 'rw',\n",
       " 'GPX': 'raw',\n",
       " 'GPSTrackMaker': 'raw',\n",
       " 'Idrisi': 'r',\n",
       " 'MapInfo File': 'raw',\n",
       " 'DGN': 'raw',\n",
       " 'PCIDSK': 'r',\n",
       " 'SEGY': 'r',\n",
       " 'SUA': 'r'}"
      ]
     },
     "execution_count": 19,
     "metadata": {},
     "output_type": "execute_result"
    }
   ],
   "source": [
    "import fiona\n",
    "fiona.supported_drivers"
   ]
  },
  {
   "cell_type": "code",
   "execution_count": 34,
   "metadata": {},
   "outputs": [
    {
     "name": "stdout",
     "output_type": "stream",
     "text": [
      "1\n"
     ]
    }
   ],
   "source": [
    "output_epc_file = output_plot_dir+'lsoa_derbyshire_rLST_LC_EPC_daterange.geojson'\n",
    "print(len(glob.glob(output_epc_file)))"
   ]
  },
  {
   "cell_type": "code",
   "execution_count": 10,
   "metadata": {},
   "outputs": [],
   "source": []
  },
  {
   "cell_type": "code",
   "execution_count": 11,
   "metadata": {},
   "outputs": [
    {
     "ename": "NameError",
     "evalue": "name 'lads' is not defined",
     "output_type": "error",
     "traceback": [
      "\u001b[0;31m--------------------------------------------------------------------------\u001b[0m",
      "\u001b[0;31mNameError\u001b[0m                                Traceback (most recent call last)",
      "\u001b[0;32m<ipython-input-11-6cb9f0625de2>\u001b[0m in \u001b[0;36m<module>\u001b[0;34m\u001b[0m\n\u001b[1;32m      1\u001b[0m \u001b[0;34m\"\"\"Construct EPC filenames to look for, using LAD codes from LADS file\"\"\"\u001b[0m\u001b[0;34m\u001b[0m\u001b[0m\n\u001b[1;32m      2\u001b[0m \u001b[0mepc_files\u001b[0m \u001b[0;34m=\u001b[0m \u001b[0;34m[\u001b[0m\u001b[0;34m]\u001b[0m\u001b[0;34m\u001b[0m\u001b[0m\n\u001b[0;32m----> 3\u001b[0;31m for code,name in zip(lads['lad16cd'].values,\n\u001b[0m\u001b[1;32m      4\u001b[0m                      lads['lad16nm'].values):\n\u001b[1;32m      5\u001b[0m     \u001b[0mepc_files\u001b[0m \u001b[0;34m+=\u001b[0m \u001b[0;34m[\u001b[0m\u001b[0mepc_filename\u001b[0m\u001b[0;34m(\u001b[0m\u001b[0mcode\u001b[0m\u001b[0;34m,\u001b[0m\u001b[0mname\u001b[0m\u001b[0;34m)\u001b[0m\u001b[0;34m]\u001b[0m\u001b[0;34m\u001b[0m\u001b[0m\n",
      "\u001b[0;31mNameError\u001b[0m: name 'lads' is not defined"
     ]
    }
   ],
   "source": []
  },
  {
   "cell_type": "code",
   "execution_count": null,
   "metadata": {},
   "outputs": [],
   "source": []
  },
  {
   "cell_type": "code",
   "execution_count": null,
   "metadata": {},
   "outputs": [],
   "source": []
  },
  {
   "cell_type": "code",
   "execution_count": null,
   "metadata": {},
   "outputs": [],
   "source": []
  }
 ],
 "metadata": {
  "kernelspec": {
   "display_name": "Python 3",
   "language": "python",
   "name": "python3"
  },
  "language_info": {
   "codemirror_mode": {
    "name": "ipython",
    "version": 3
   },
   "file_extension": ".py",
   "mimetype": "text/x-python",
   "name": "python",
   "nbconvert_exporter": "python",
   "pygments_lexer": "ipython3",
   "version": "3.6.6"
  }
 },
 "nbformat": 4,
 "nbformat_minor": 2
}
