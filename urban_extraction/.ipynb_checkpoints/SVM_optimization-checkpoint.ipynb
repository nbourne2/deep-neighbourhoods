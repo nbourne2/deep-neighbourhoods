{
 "cells": [
  {
   "cell_type": "code",
   "execution_count": null,
   "metadata": {},
   "outputs": [],
   "source": [
    "import warnings\n",
    "from sklearn.exceptions import DataConversionWarning\n",
    "warnings.filterwarnings(\"ignore\", message=\"numpy.dtype size changed\")\n",
    "warnings.filterwarnings(\"ignore\", message=\"numpy.ufunc size changed\")\n",
    "\n",
    "# Warning used to notify implicit data conversions happening in the code.\n",
    "warnings.filterwarnings(action='ignore', category=DataConversionWarning)"
   ]
  },
  {
   "cell_type": "code",
   "execution_count": null,
   "metadata": {},
   "outputs": [],
   "source": [
    "import os\n",
    "import glob\n",
    "\n",
    "import rasterio\n",
    "from rasterio import features\n",
    "import numpy as np\n",
    "import scipy\n",
    "\n",
    "import pandas as pd\n",
    "import geopandas as gpd\n",
    "\n",
    "from sklearn.svm import SVC\n",
    "from sklearn.model_selection import train_test_split\n",
    "from sklearn.metrics import confusion_matrix, classification_report, accuracy_score\n",
    "from sklearn.model_selection import GridSearchCV, RandomizedSearchCV\n",
    "from sklearn import preprocessing\n",
    "from sklearn.pipeline import Pipeline\n"
   ]
  },
  {
   "cell_type": "code",
   "execution_count": null,
   "metadata": {},
   "outputs": [],
   "source": [
    "with rasterio.open(os.path.join(DATA_PATH,'input','Sentinel-2_RGB.tiff')) as src:\n",
    "    band_rgb = src.read()\n",
    "    transform = src.transform\n",
    "    shape = src.shape\n",
    "    profile = src.profile"
   ]
  },
  {
   "cell_type": "code",
   "execution_count": null,
   "metadata": {},
   "outputs": [],
   "source": [
    "glob_path = glob.glob(os.path.join(DATA_PATH,'training_data','*'))\n",
    "\n",
    "shapefiles = [f for f in glob_path if f.endswith('.shp')]"
   ]
  },
  {
   "cell_type": "code",
   "execution_count": null,
   "metadata": {},
   "outputs": [],
   "source": [
    "labeled_pixels = np.zeros((shape[0],shape[1]))\n",
    "\n",
    "for i,shp in enumerate(shapefiles):\n",
    "    label = i+1  \n",
    "    df = gpd.read_file(shp)\n",
    "    geom = df['geometry']\n",
    "    vectors_rasterized = features.rasterize(geom,\n",
    "                                           out_shape = shape,\n",
    "                                           transform = transform,\n",
    "                                           all_touched=True,\n",
    "                                           fill=0, default_value=label)\n",
    "    labeled_pixels += vectors_rasterized\n",
    "\n",
    "# convert shape of raster from bands:rows:cols to rows:cols:bands\n",
    "raster_img = np.rollaxis(band_rgb,0,3)"
   ]
  },
  {
   "cell_type": "code",
   "execution_count": null,
   "metadata": {},
   "outputs": [],
   "source": [
    "for i, shp in enumerate(shapefiles):\n",
    "    i = i+1\n",
    "    shp_path = os.path.split(shp)\n",
    "    land_classes = shp_path[1][:-4]\n",
    "    print('Class {land_classes} contains {n} pixels'.format(land_classes=land_classes, n=(labeled_pixels == i).sum()))\n",
    "\n",
    "roi_int = labeled_pixels.astype(int)\n",
    "# X is the matrix containing our features\n",
    "X = raster_img[roi_int > 0] \n",
    "# y contains the values of our training data\n",
    "y = labeled_pixels[labeled_pixels>0]\n"
   ]
  },
  {
   "cell_type": "code",
   "execution_count": null,
   "metadata": {},
   "outputs": [],
   "source": [
    "#Split our dataset into training and testing. Test data will be used to make predictions\n",
    "split_test_data = 0.30\n",
    "X_train, X_test, y_train, y_test = train_test_split(X, y, test_size=split_test_data, stratify = y)\n",
    "\n",
    "# Reshape the data so that we make predictions for the whole raster\n",
    "new_shape = (raster_img.shape[0] * raster_img.shape[1], raster_img.shape[2] )\n",
    "img_as_array = raster_img[:,:].reshape(new_shape)\n",
    "print('Reshaped from {o} to {n}'.format(o=raster_img.shape,\n",
    "                                        n=img_as_array.shape))"
   ]
  },
  {
   "cell_type": "code",
   "execution_count": null,
   "metadata": {},
   "outputs": [],
   "source": [
    "def tune(X, y, search_type):\n",
    "\n",
    "    param_range_c = np.logspace(0, 2, 8)\n",
    "    param_range_gamma = np.logspace(-6, -1, 8)\n",
    "\n",
    "    param_grid = {'svm__C': param_range_c,\n",
    "                  'svm__gamma': param_range_gamma}\n",
    "\n",
    "    pip = Pipeline([('scale', preprocessing.StandardScaler()), \n",
    "                    ('svm', SVC(kernel='rbf', class_weight='balanced'))])\n",
    "    \n",
    "    if search_type == 'grid':\n",
    "        clf = GridSearchCV(estimator= pip, \n",
    "                        param_grid= param_grid,\n",
    "                        scoring= 'accuracy',\n",
    "                        cv=3,\n",
    "                        n_jobs=-1)\n",
    "\n",
    "        clf = clf.fit(X_train, y_train)\n",
    "        \n",
    "        # print accuracy of the model\n",
    "        print ('Best parameters:', clf.best_params_) \n",
    "        print('Score', clf.best_score_)\n",
    "    \n",
    "\n",
    "    elif search_type == 'random':\n",
    "        clf = RandomizedSearchCV(estimator= pip, \n",
    "                                param_distributions=param_grid, \n",
    "                                scoring= 'accuracy',\n",
    "                                cv=3,\n",
    "                                n_iter=15,\n",
    "                                error_score='numeric',# it supresses the warning error\n",
    "                                n_jobs=-1)\n",
    "\n",
    "        clf = clf.fit(X_train, y_train)\n",
    "        \n",
    "        # print accuracy of the model\n",
    "        print ('Best parameters:', clf.best_params_) \n",
    "        print('Score', clf.best_score_)\n",
    "        \n",
    "        \n",
    "    return clf\n"
   ]
  }
 ],
 "metadata": {
  "kernelspec": {
   "display_name": "Python 3",
   "language": "python",
   "name": "python3"
  },
  "language_info": {
   "codemirror_mode": {
    "name": "ipython",
    "version": 3
   },
   "file_extension": ".py",
   "mimetype": "text/x-python",
   "name": "python",
   "nbconvert_exporter": "python",
   "pygments_lexer": "ipython3",
   "version": "3.6.6"
  }
 },
 "nbformat": 4,
 "nbformat_minor": 2
}
