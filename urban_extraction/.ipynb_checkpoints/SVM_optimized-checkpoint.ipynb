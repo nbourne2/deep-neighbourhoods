{
 "cells": [
  {
   "cell_type": "code",
   "execution_count": 1,
   "metadata": {},
   "outputs": [],
   "source": [
    "import warnings\n",
    "from sklearn.exceptions import DataConversionWarning\n",
    "warnings.filterwarnings(\"ignore\", message=\"numpy.dtype size changed\")\n",
    "warnings.filterwarnings(\"ignore\", message=\"numpy.ufunc size changed\")\n",
    "\n",
    "# Warning used to notify implicit data conversions happening in the code.\n",
    "warnings.filterwarnings(action='ignore', category=DataConversionWarning)"
   ]
  },
  {
   "cell_type": "code",
   "execution_count": 2,
   "metadata": {},
   "outputs": [],
   "source": [
    "import os\n",
    "import glob\n",
    "from multiprocessing import Pool, cpu_count\n",
    "\n",
    "import rasterio\n",
    "from rasterio import features\n",
    "from rasterio import plot\n",
    "import numpy as np\n",
    "import scipy\n",
    "\n",
    "import pandas as pd\n",
    "import geopandas as gpd\n",
    "\n",
    "from sklearn.svm import SVC\n",
    "from sklearn.model_selection import train_test_split\n",
    "from sklearn.metrics import confusion_matrix, classification_report, accuracy_score\n",
    "from sklearn.model_selection import cross_val_score, StratifiedKFold, GridSearchCV, RandomizedSearchCV\n",
    "from sklearn import preprocessing\n",
    "from sklearn.pipeline import Pipeline\n",
    "\n",
    "import matplotlib.pylab as plt"
   ]
  },
  {
   "cell_type": "code",
   "execution_count": 3,
   "metadata": {},
   "outputs": [],
   "source": [
    "DATA_PATH = '/home/io/ASTROSAT/code/urban_extraction'"
   ]
  },
  {
   "cell_type": "code",
   "execution_count": 4,
   "metadata": {},
   "outputs": [],
   "source": [
    "with rasterio.open(os.path.join(DATA_PATH,'input','Sentinel-2_RGB.tiff')) as src:\n",
    "    band_rgb = src.read()\n",
    "    transform = src.transform\n",
    "    shape = src.shape\n",
    "    profile = src.profile"
   ]
  },
  {
   "cell_type": "code",
   "execution_count": 5,
   "metadata": {},
   "outputs": [],
   "source": [
    "glob_path = glob.glob(os.path.join(DATA_PATH,'training_data','*'))\n",
    "shapefiles = [f for f in glob_path if f.endswith('.shp')]"
   ]
  },
  {
   "cell_type": "code",
   "execution_count": 6,
   "metadata": {},
   "outputs": [],
   "source": [
    "def rasterize(vector_data):\n",
    "    labeled_pixels = np.zeros((shape[0],shape[1]))\n",
    "    for i,shp in enumerate(vector_data):\n",
    "        label = i+1  \n",
    "        df = gpd.read_file(shp)\n",
    "        geom = df['geometry']\n",
    "        vectors_rasterized = features.rasterize(geom,\n",
    "                                               out_shape = shape,\n",
    "                                               transform = transform,\n",
    "                                               all_touched=True,\n",
    "                                               fill=0, default_value=label)\n",
    "        labeled_pixels += vectors_rasterized\n",
    "\n",
    "    return labeled_pixels   "
   ]
  },
  {
   "cell_type": "code",
   "execution_count": 7,
   "metadata": {},
   "outputs": [
    {
     "name": "stdout",
     "output_type": "stream",
     "text": [
      "Class urban contains 745 pixels\n",
      "Class water contains 1049 pixels\n",
      "Class grass contains 1424 pixels\n",
      "Class bare_ground contains 1190 pixels\n"
     ]
    }
   ],
   "source": [
    "# convert shape of raster from bands:rows:cols to rows:cols:bands\n",
    "raster_img = np.rollaxis(band_rgb,0,3)\n",
    "labeled_pixels = rasterize(shapefiles)\n",
    "\n",
    "for i, shp in enumerate(shapefiles):\n",
    "    i = i+1\n",
    "    shp_path = os.path.split(shp)\n",
    "    land_classes = shp_path[1][:-4]\n",
    "    print('Class {land_classes} contains {n} pixels'.format(land_classes=land_classes, n=(labeled_pixels == i).sum()))\n",
    "\n",
    "roi_int = labeled_pixels.astype(int)\n",
    "# X is the matrix containing our features\n",
    "X = raster_img[roi_int > 0] \n",
    "# y contains the values of our training data\n",
    "y = labeled_pixels[labeled_pixels>0]"
   ]
  },
  {
   "cell_type": "code",
   "execution_count": 8,
   "metadata": {},
   "outputs": [
    {
     "name": "stdout",
     "output_type": "stream",
     "text": [
      "Reshaped from (1143, 1890, 3) to (2160270, 3)\n"
     ]
    }
   ],
   "source": [
    "#Split our dataset into training and testing. Test data will be used to make predictions\n",
    "split_test_data = 0.30\n",
    "X_train, X_test, y_train, y_test = train_test_split(X, y, test_size=split_test_data, stratify = y)\n",
    "\n",
    "# Reshape the data so that we make predictions for the whole raster\n",
    "new_shape = (raster_img.shape[0] * raster_img.shape[1], raster_img.shape[2] )\n",
    "img_as_array = raster_img[:,:].reshape(new_shape)\n",
    "print('Reshaped from {o} to {n}'.format(o=raster_img.shape,\n",
    "                                        n=img_as_array.shape))"
   ]
  },
  {
   "cell_type": "code",
   "execution_count": 10,
   "metadata": {},
   "outputs": [
    {
     "name": "stdout",
     "output_type": "stream",
     "text": [
      "Best parameters: {'svm__gamma': 0.1, 'svm__C': 13.894954943731374}\n",
      "Classification accuracy: 0.9542949756888168\n"
     ]
    }
   ],
   "source": [
    "def tune(X, y, search_type):\n",
    "\n",
    "    param_range_c = np.logspace(0, 2, 8)\n",
    "    param_range_gamma = np.logspace(-6, -1, 8)\n",
    "\n",
    "    param_grid = {'svm__C': param_range_c,\n",
    "                  'svm__gamma': param_range_gamma}\n",
    "\n",
    "    pip = Pipeline([('scale', preprocessing.StandardScaler()), \n",
    "                    ('svm', SVC(kernel='rbf', class_weight='balanced'))])\n",
    "    \n",
    "    if search_type == 'grid':\n",
    "        clf = GridSearchCV(estimator= pip, \n",
    "                        param_grid= param_grid,\n",
    "                        scoring= 'accuracy',\n",
    "                        cv=3,\n",
    "                        n_jobs=-1)\n",
    "\n",
    "        clf = clf.fit(X_train, y_train)\n",
    "        \n",
    "        # print accuracy of the model\n",
    "        print ('Best parameters:', clf.best_params_) \n",
    "        print('Classification accuracy', clf.best_score_)\n",
    "    \n",
    "\n",
    "    elif search_type == 'random':\n",
    "        clf = RandomizedSearchCV(estimator= pip, \n",
    "                                param_distributions=param_grid, \n",
    "                                scoring= 'accuracy',\n",
    "                                cv=3,\n",
    "                                n_iter=15,\n",
    "                                error_score='numeric',# it supresses the warning error\n",
    "                                n_jobs=-1)\n",
    "\n",
    "        clf = clf.fit(X_train, y_train)\n",
    "        \n",
    "        # print accuracy of the model\n",
    "        print ('Best parameters:', clf.best_params_) \n",
    "        print('Classification accuracy:', clf.best_score_)\n",
    "        \n",
    "        \n",
    "    return clf\n",
    "clf = tune(X_train, y_train, 'random')"
   ]
  },
  {
   "cell_type": "code",
   "execution_count": 19,
   "metadata": {},
   "outputs": [
    {
     "name": "stdout",
     "output_type": "stream",
     "text": [
      "Confusion matrix: \n",
      " [[ 613   53   18   61]\n",
      " [   0 1048    0    1]\n",
      " [  17    0 1407    0]\n",
      " [  57    0    1 1132]]\n",
      "\n",
      "\n",
      "Classificaion report: \n",
      "              precision    recall  f1-score   support\n",
      "\n",
      "      urban       0.89      0.82      0.86       745\n",
      "      water       0.95      1.00      0.97      1049\n",
      "      grass       0.99      0.99      0.99      1424\n",
      "bare_ground       0.95      0.95      0.95      1190\n",
      "\n",
      "avg / total       0.95      0.95      0.95      4408\n",
      "\n"
     ]
    }
   ],
   "source": [
    "# use multi-processing\n",
    "def predict(input_data):\n",
    "    y_predict = clf.predict(input_data)\n",
    "    return y_predict\n",
    "\n",
    "def parallel_processing():\n",
    "    # split good data into chunks for parallel processing\n",
    "    cpu_n = cpu_count()\n",
    "    image_array = np.copy(img_as_array)\n",
    "    split = np.array_split(image_array, cpu_n)\n",
    "\n",
    "    # run parallel processing of all data with SVM\n",
    "    pool = Pool(cpu_n)\n",
    "    svmLablesPredict = pool.map(predict, split)\n",
    "    # join results back from the queue and insert into full matrix\n",
    "    svmLablesPredict = np.hstack(svmLablesPredict)\n",
    "    svm_reshape = svmLablesPredict.reshape(raster_img.shape[0], raster_img.shape[1])\n",
    "    \n",
    "    return svm_reshape\n",
    "\n",
    "\n",
    "def model_accuracy(classified_raster):\n",
    "    target_names = [os.path.split(s)[1][:-4] for s in shapefiles ]\n",
    "\n",
    "    for_verification = np.nonzero(labeled_pixels)\n",
    "    verification_labels = labeled_pixels[for_verification]\n",
    "    predicted_labels = classified_raster[for_verification] # svm_reshape\n",
    "\n",
    "\n",
    "    print ('Confusion matrix: \\n %s' % \n",
    "            confusion_matrix(verification_labels, predicted_labels)) \n",
    "    print ('\\n')\n",
    "\n",
    "    print  ('Classificaion report: \\n %s' %\n",
    "            classification_report(verification_labels, predicted_labels, target_names=target_names))\n",
    "    \n",
    "    return confusion_matrix, classification_report\n",
    "SVM_classified = parallel_processing()\n",
    "accuracy = model_accuracy(SVM_classified)\n",
    "accuracy;"
   ]
  },
  {
   "cell_type": "code",
   "execution_count": 20,
   "metadata": {},
   "outputs": [
    {
     "data": {
      "image/png": "[encoded data removed]",
      "text/plain": [
       "<Figure size 432x288 with 1 Axes>"
      ]
     },
     "metadata": {},
     "output_type": "display_data"
    },
    {
     "data": {
      "text/plain": [
       "<matplotlib.axes._subplots.AxesSubplot at 0x7f9630068fd0>"
      ]
     },
     "execution_count": 20,
     "metadata": {},
     "output_type": "execute_result"
    }
   ],
   "source": [
    "plot.show(SVM_classified)"
   ]
  }
 ],
 "metadata": {
  "kernelspec": {
   "display_name": "Python 3",
   "language": "python",
   "name": "python3"
  },
  "language_info": {
   "codemirror_mode": {
    "name": "ipython",
    "version": 3
   },
   "file_extension": ".py",
   "mimetype": "text/x-python",
   "name": "python",
   "nbconvert_exporter": "python",
   "pygments_lexer": "ipython3",
   "version": "3.6.5"
  }
 },
 "nbformat": 4,
 "nbformat_minor": 2
}
